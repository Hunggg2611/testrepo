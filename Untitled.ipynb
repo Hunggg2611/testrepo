{
 "cells": [
  {
   "cell_type": "markdown",
   "id": "94538f99-a14f-4ea6-b9fe-8822d10e9c0e",
   "metadata": {},
   "source": [
    "<h1> My Jupyter Notebook on IBM Watson Studio <h1>\n",
    "    "
   ]
  },
  {
   "cell_type": "markdown",
   "id": "0c53722e-b104-4176-9692-3d07a7693ccd",
   "metadata": {},
   "source": [
    "<bold> Hung Tran <bold>"
   ]
  },
  {
   "cell_type": "markdown",
   "id": "043042e8-7c15-4fb7-bc2a-9bf605c3144f",
   "metadata": {},
   "source": [
    "<i>  I am interested in data science because I love number and math <i>"
   ]
  },
  {
   "cell_type": "markdown",
   "id": "217474c8-b8d3-4ba2-b92f-6b61d891ff48",
   "metadata": {},
   "source": [
    "<h3> My code is supposed to run the fibonacci sequence <h3>"
   ]
  },
  {
   "cell_type": "code",
   "execution_count": 5,
   "id": "413e4cf5-d765-4809-8b91-b8a675dd6608",
   "metadata": {},
   "outputs": [
    {
     "data": {
      "text/plain": [
       "2"
      ]
     },
     "execution_count": 5,
     "metadata": {},
     "output_type": "execute_result"
    }
   ],
   "source": [
    "1+1"
   ]
  },
  {
   "cell_type": "code",
   "execution_count": null,
   "id": "fcbc052c-3eb1-48e1-9c49-422a742521ae",
   "metadata": {},
   "outputs": [],
   "source": []
  }
 ],
 "metadata": {
  "kernelspec": {
   "display_name": "Python",
   "language": "python",
   "name": "conda-env-python-py"
  },
  "language_info": {
   "codemirror_mode": {
    "name": "ipython",
    "version": 3
   },
   "file_extension": ".py",
   "mimetype": "text/x-python",
   "name": "python",
   "nbconvert_exporter": "python",
   "pygments_lexer": "ipython3",
   "version": "3.7.12"
  }
 },
 "nbformat": 4,
 "nbformat_minor": 5
}
